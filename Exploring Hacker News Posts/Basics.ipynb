{
 "cells": [
  {
   "cell_type": "markdown",
   "metadata": {
    "collapsed": true,
    "jupyter": {
     "outputs_hidden": true
    }
   },
   "source": [
    "# Exploring Hacker News Posts\n",
    "\n",
    "Here we are going to perform analysis of data from website of hacker news and answer two questions:\n",
    "\n",
    "- What kind of posts are more interesting?\n",
    "- What time of a day is best to post and be heard?\n",
    "\n",
    "\n",
    "To do that we need to follow these steps:\n",
    "- Collect data\n",
    "- Sort data\n",
    "- Reformatt and clean the data\n",
    "- Analyzing data"
   ]
  },
  {
   "cell_type": "code",
   "execution_count": 1,
   "metadata": {},
   "outputs": [
    {
     "name": "stdout",
     "output_type": "stream",
     "text": [
      "[['id', 'title', 'url', 'num_points', 'num_comments', 'author', 'created_at'], ['12224879', 'Interactive Dynamic Video', 'http://www.interactivedynamicvideo.com/', '386', '52', 'ne0phyte', '8/4/2016 11:52'], ['10975351', 'How to Use Open Source and Shut the Fuck Up at the Same Time', 'http://hueniverse.com/2016/01/26/how-to-use-open-source-and-shut-the-fuck-up-at-the-same-time/', '39', '10', 'josep2', '1/26/2016 19:30'], ['11964716', \"Florida DJs May Face Felony for April Fools' Water Joke\", 'http://www.thewire.com/entertainment/2013/04/florida-djs-april-fools-water-joke/63798/', '2', '1', 'vezycash', '6/23/2016 22:20'], ['11919867', 'Technology ventures: From Idea to Enterprise', 'https://www.amazon.com/Technology-Ventures-Enterprise-Thomas-Byers/dp/0073523429', '3', '1', 'hswarna', '6/17/2016 0:01']]\n"
     ]
    }
   ],
   "source": [
    "from csv import reader\n",
    "\n",
    "hn = open('hacker_news.csv')\n",
    "hn = reader(hn)\n",
    "hn = list(hn)\n",
    "print(hn[0:5])"
   ]
  },
  {
   "cell_type": "code",
   "execution_count": 2,
   "metadata": {},
   "outputs": [
    {
     "name": "stdout",
     "output_type": "stream",
     "text": [
      "['id', 'title', 'url', 'num_points', 'num_comments', 'author', 'created_at']\n"
     ]
    }
   ],
   "source": [
    "headers = hn[0]\n",
    "hn = hn[1:]\n",
    "print(headers)"
   ]
  },
  {
   "cell_type": "code",
   "execution_count": 3,
   "metadata": {},
   "outputs": [
    {
     "data": {
      "text/plain": [
       "[['12224879',\n",
       "  'Interactive Dynamic Video',\n",
       "  'http://www.interactivedynamicvideo.com/',\n",
       "  '386',\n",
       "  '52',\n",
       "  'ne0phyte',\n",
       "  '8/4/2016 11:52'],\n",
       " ['10975351',\n",
       "  'How to Use Open Source and Shut the Fuck Up at the Same Time',\n",
       "  'http://hueniverse.com/2016/01/26/how-to-use-open-source-and-shut-the-fuck-up-at-the-same-time/',\n",
       "  '39',\n",
       "  '10',\n",
       "  'josep2',\n",
       "  '1/26/2016 19:30'],\n",
       " ['11964716',\n",
       "  \"Florida DJs May Face Felony for April Fools' Water Joke\",\n",
       "  'http://www.thewire.com/entertainment/2013/04/florida-djs-april-fools-water-joke/63798/',\n",
       "  '2',\n",
       "  '1',\n",
       "  'vezycash',\n",
       "  '6/23/2016 22:20'],\n",
       " ['11919867',\n",
       "  'Technology ventures: From Idea to Enterprise',\n",
       "  'https://www.amazon.com/Technology-Ventures-Enterprise-Thomas-Byers/dp/0073523429',\n",
       "  '3',\n",
       "  '1',\n",
       "  'hswarna',\n",
       "  '6/17/2016 0:01'],\n",
       " ['10301696',\n",
       "  'Note by Note: The Making of Steinway L1037 (2007)',\n",
       "  'http://www.nytimes.com/2007/11/07/movies/07stein.html?_r=0',\n",
       "  '8',\n",
       "  '2',\n",
       "  'walterbell',\n",
       "  '9/30/2015 4:12']]"
      ]
     },
     "execution_count": 3,
     "metadata": {},
     "output_type": "execute_result"
    }
   ],
   "source": [
    "hn[0:5]"
   ]
  },
  {
   "cell_type": "code",
   "execution_count": 4,
   "metadata": {},
   "outputs": [
    {
     "name": "stdout",
     "output_type": "stream",
     "text": [
      " Ask type posts: 1744, \n",
      " Show type posts: 1162, \n",
      " Other type of posts: 17194\n"
     ]
    }
   ],
   "source": [
    "ask_posts = []\n",
    "show_posts = []\n",
    "other_posts = []\n",
    "\n",
    "for row in hn:\n",
    "    title = row[1]\n",
    "    if title.lower().startswith('ask hn'):\n",
    "        ask_posts.append(row)\n",
    "    elif title.lower().startswith('show hn'):\n",
    "        show_posts.append(row)\n",
    "    else:\n",
    "        other_posts.append(row)\n",
    "\n",
    "print(f\" Ask type posts: {len(ask_posts)}, \\n\"\n",
    "      f\" Show type posts: {len(show_posts)}, \\n\"\n",
    "      f\" Other type of posts: {len(other_posts)}\")"
   ]
  },
  {
   "cell_type": "code",
   "execution_count": 5,
   "metadata": {},
   "outputs": [
    {
     "name": "stdout",
     "output_type": "stream",
     "text": [
      "Average number of comments for ask posts: 14.038417431192661,\n",
      "Average number of comments for show posts: 10.31669535283993\n"
     ]
    }
   ],
   "source": [
    "#Ask posts\n",
    "total_ask_comments = 0\n",
    "for row in ask_posts:\n",
    "    total_ask_comments = total_ask_comments + int(row[4])\n",
    "avg_ask_comments = total_ask_comments/len(ask_posts)\n",
    "\n",
    "#Show posts\n",
    "total_show_comments = 0\n",
    "for row in show_posts:\n",
    "    total_show_comments = total_show_comments + int(row[4])\n",
    "avg_show_comments = total_show_comments/len(show_posts)\n",
    "\n",
    "#Conclusion\n",
    "print(f\"Average number of comments for ask posts: {avg_ask_comments},\\n\"\n",
    "      f\"Average number of comments for show posts: {avg_show_comments}\")"
   ]
  },
  {
   "cell_type": "markdown",
   "metadata": {},
   "source": [
    "Here we get the answer for the first question:\n",
    "\n",
    "**On average ask posts gets more comments, thus are more interesting for readers.** "
   ]
  },
  {
   "cell_type": "code",
   "execution_count": 6,
   "metadata": {},
   "outputs": [],
   "source": [
    "import datetime as dt\n",
    "\n",
    "result_list = []\n",
    "\n",
    "for row in ask_posts:\n",
    "    creation = row[6]\n",
    "    num_comments = int(row[4])\n",
    "    result_list.append([creation, num_comments])\n",
    "\n",
    "counts_by_hour = {}\n",
    "comments_by_hour = {}\n",
    "\n",
    "for i in result_list:\n",
    "    my_hour = dt.datetime.strptime(i[0], '%m/%d/%Y %H:%M')\n",
    "    my_hour = my_hour.hour\n",
    "    if my_hour not in counts_by_hour:\n",
    "        counts_by_hour[my_hour] = 1\n",
    "        comments_by_hour[my_hour] = 1\n",
    "    else:\n",
    "        counts_by_hour[my_hour] += 1\n",
    "        comments_by_hour[my_hour] += i[1]"
   ]
  },
  {
   "cell_type": "code",
   "execution_count": 7,
   "metadata": {},
   "outputs": [],
   "source": [
    "avg_by_hour = []\n",
    "\n",
    "for hour in counts_by_hour:\n",
    "    counts = counts_by_hour[hour]\n",
    "    comments = comments_by_hour[hour]\n",
    "    avg_by_hour.append([hour, comments/counts])\n",
    " "
   ]
  },
  {
   "cell_type": "code",
   "execution_count": 8,
   "metadata": {},
   "outputs": [
    {
     "name": "stdout",
     "output_type": "stream",
     "text": [
      "[[5.466666666666667, 9], [14.411764705882353, 13], [13.440677966101696, 10], [13.214953271028037, 14], [16.64814814814815, 16], [7.985294117647059, 23], [9.36986301369863, 12], [11.46, 17], [38.5948275862069, 15], [15.98165137614679, 21], [21.5125, 20], [23.775862068965516, 2], [13.192660550458715, 18], [7.796296296296297, 3], [9.478260869565217, 5], [10.781818181818181, 19], [10.85, 1], [6.732394366197183, 22], [10.166666666666666, 8], [7.127659574468085, 4], [7.963636363636364, 0], [9.022727272727273, 6], [7.823529411764706, 7], [11.03448275862069, 11]]\n"
     ]
    }
   ],
   "source": [
    "swap_avg_by_hour = []\n",
    "\n",
    "for h in avg_by_hour:\n",
    "    swap_avg_by_hour.append([h[1], h[0]])\n",
    "print(swap_avg_by_hour)"
   ]
  },
  {
   "cell_type": "code",
   "execution_count": 9,
   "metadata": {},
   "outputs": [],
   "source": [
    "sorted_swap = sorted(swap_avg_by_hour, reverse=True)"
   ]
  },
  {
   "cell_type": "code",
   "execution_count": 10,
   "metadata": {},
   "outputs": [
    {
     "name": "stdout",
     "output_type": "stream",
     "text": [
      "Top 5 Hours for Ask Posts Comments.\n",
      "15:00: 38.59 average comments per post.\n",
      "02:00: 23.78 average comments per post.\n",
      "20:00: 21.51 average comments per post.\n",
      "16:00: 16.65 average comments per post.\n",
      "21:00: 15.98 average comments per post.\n"
     ]
    }
   ],
   "source": [
    "import datetime as dt \n",
    "print('Top 5 Hours for Ask Posts Comments.')\n",
    "\n",
    "str_format = '{0}: {1:.2F} average comments per post.'\n",
    "\n",
    "for i in sorted_swap[:5]:\n",
    "    t = dt.datetime.strptime(str(i[1]), '%H')\n",
    "    t = dt.datetime.strftime(t, '%H:%M')\n",
    "    avg = i[0]\n",
    "    print(str_format.format(t, avg))"
   ]
  },
  {
   "cell_type": "markdown",
   "metadata": {},
   "source": [
    "The time is the time zone of Eastern US, which is -6h in comparison to Warsaw time-zone. \n",
    "To get Polish time of posts we have to substract 6 hours from the original ones."
   ]
  },
  {
   "cell_type": "code",
   "execution_count": 11,
   "metadata": {},
   "outputs": [],
   "source": [
    "x = sorted_swap[1][1] \n",
    "y = dt.timedelta(hours=-6)"
   ]
  },
  {
   "cell_type": "code",
   "execution_count": 12,
   "metadata": {},
   "outputs": [
    {
     "name": "stdout",
     "output_type": "stream",
     "text": [
      "Top 5 Hours for Ask Posts Comments. (Polish time-zone)\n",
      "09:00: 38.59 average comments per post.\n",
      "20:00: 23.78 average comments per post.\n",
      "14:00: 21.51 average comments per post.\n",
      "10:00: 16.65 average comments per post.\n",
      "15:00: 15.98 average comments per post.\n"
     ]
    }
   ],
   "source": [
    "print('Top 5 Hours for Ask Posts Comments. (Polish time-zone)')\n",
    "\n",
    "str_format = '{0}: {1:.2F} average comments per post.'\n",
    "\n",
    "for i in sorted_swap[:5]:\n",
    "    t = dt.datetime.strptime(str(i[1]), '%H') - dt.timedelta(hours=6)\n",
    "    t = dt.datetime.strftime(t, '%H:%M')\n",
    "    avg = i[0]\n",
    "    print(str_format.format(t, avg))"
   ]
  },
  {
   "cell_type": "markdown",
   "metadata": {},
   "source": [
    "That indicates that if you live in Poland and publish on hacker news an ask post, you should do it around 9 AM or 8 PM to get the best feedback."
   ]
  }
 ],
 "metadata": {
  "kernelspec": {
   "display_name": "Python 3 (ipykernel)",
   "language": "python",
   "name": "python3"
  },
  "language_info": {
   "codemirror_mode": {
    "name": "ipython",
    "version": 3
   },
   "file_extension": ".py",
   "mimetype": "text/x-python",
   "name": "python",
   "nbconvert_exporter": "python",
   "pygments_lexer": "ipython3",
   "version": "3.11.5"
  }
 },
 "nbformat": 4,
 "nbformat_minor": 4
}
