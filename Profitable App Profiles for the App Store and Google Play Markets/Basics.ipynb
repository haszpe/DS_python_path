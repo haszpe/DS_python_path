{
 "cells": [
  {
   "cell_type": "markdown",
   "metadata": {},
   "source": [
    "# Profitable App Profiles for the App Store and Google Play Markets\n",
    "\n",
    "    The project is about something very important probalby. I am hoing to learn a lot while doing it. Or not cuz I already know a lot of stuff.\n",
    "\n",
    "    The goal is to do some analytics.\n",
    "    "
   ]
  },
  {
   "cell_type": "code",
   "execution_count": 1,
   "metadata": {},
   "outputs": [],
   "source": [
    "def explore_data(dataset, start, end, rows_and_columns=False):\n",
    "    dataset_slice = dataset[start:end]    \n",
    "    for row in dataset_slice:\n",
    "        print(row)\n",
    "        print('\\n') # adds a new (empty) line after each row\n",
    "\n",
    "    if rows_and_columns:\n",
    "        print('Number of rows:', len(dataset))\n",
    "        print('Number of columns:', len(dataset[0]))"
   ]
  },
  {
   "cell_type": "code",
   "execution_count": 2,
   "metadata": {},
   "outputs": [],
   "source": [
    "from csv import reader\n",
    "\n",
    "a_opened_file = open('AppleStore.csv')\n",
    "a_read_file = reader(a_opened_file)\n",
    "apple_data = list(a_read_file)\n",
    "\n",
    "g_opened_file = open('googleplaystore.csv')\n",
    "g_read_file = reader(g_opened_file)\n",
    "google_data = list(g_read_file)"
   ]
  },
  {
   "cell_type": "code",
   "execution_count": 3,
   "metadata": {},
   "outputs": [
    {
     "name": "stdout",
     "output_type": "stream",
     "text": [
      "['id', 'track_name', 'size_bytes', 'currency', 'price', 'rating_count_tot', 'rating_count_ver', 'user_rating', 'user_rating_ver', 'ver', 'cont_rating', 'prime_genre', 'sup_devices.num', 'ipadSc_urls.num', 'lang.num', 'vpp_lic']\n",
      "\n",
      "\n",
      "['284882215', 'Facebook', '389879808', 'USD', '0.0', '2974676', '212', '3.5', '3.5', '95.0', '4+', 'Social Networking', '37', '1', '29', '1']\n",
      "\n",
      "\n",
      "['389801252', 'Instagram', '113954816', 'USD', '0.0', '2161558', '1289', '4.5', '4.0', '10.23', '12+', 'Photo & Video', '37', '0', '29', '1']\n",
      "\n",
      "\n"
     ]
    }
   ],
   "source": [
    "explore_data(apple_data, 0, 3)"
   ]
  },
  {
   "cell_type": "code",
   "execution_count": 4,
   "metadata": {},
   "outputs": [
    {
     "name": "stdout",
     "output_type": "stream",
     "text": [
      "['App', 'Category', 'Rating', 'Reviews', 'Size', 'Installs', 'Type', 'Price', 'Content Rating', 'Genres', 'Last Updated', 'Current Ver', 'Android Ver']\n",
      "\n",
      "\n",
      "['Photo Editor & Candy Camera & Grid & ScrapBook', 'ART_AND_DESIGN', '4.1', '159', '19M', '10,000+', 'Free', '0', 'Everyone', 'Art & Design', 'January 7, 2018', '1.0.0', '4.0.3 and up']\n",
      "\n",
      "\n",
      "['Coloring book moana', 'ART_AND_DESIGN', '3.9', '967', '14M', '500,000+', 'Free', '0', 'Everyone', 'Art & Design;Pretend Play', 'January 15, 2018', '2.0.0', '4.0.3 and up']\n",
      "\n",
      "\n"
     ]
    }
   ],
   "source": [
    "explore_data(google_data, 0, 3)"
   ]
  },
  {
   "cell_type": "code",
   "execution_count": 5,
   "metadata": {},
   "outputs": [
    {
     "data": {
      "text/plain": [
       "['Life Made WI-Fi Touchscreen Photo Frame',\n",
       " '1.9',\n",
       " '19',\n",
       " '3.0M',\n",
       " '1,000+',\n",
       " 'Free',\n",
       " '0',\n",
       " 'Everyone',\n",
       " '',\n",
       " 'February 11, 2018',\n",
       " '1.0.19',\n",
       " '4.0 and up']"
      ]
     },
     "execution_count": 5,
     "metadata": {},
     "output_type": "execute_result"
    }
   ],
   "source": [
    "google_data[10473]"
   ]
  },
  {
   "cell_type": "code",
   "execution_count": 6,
   "metadata": {},
   "outputs": [],
   "source": [
    "del google_data[10473]"
   ]
  },
  {
   "cell_type": "markdown",
   "metadata": {},
   "source": [
    "\n",
    "Is there any dupliacated rows? If so, how much? \n"
   ]
  },
  {
   "cell_type": "code",
   "execution_count": 7,
   "metadata": {},
   "outputs": [
    {
     "name": "stdout",
     "output_type": "stream",
     "text": [
      "1181\n"
     ]
    }
   ],
   "source": [
    "google_names = []\n",
    "duplicated = []\n",
    "\n",
    "for row in google_data:\n",
    "    if row[0] in google_names:\n",
    "        duplicated.append(row[0])\n",
    "    else:\n",
    "        google_names.append(row[0])\n",
    "        \n",
    "print(len(duplicated))\n"
   ]
  },
  {
   "cell_type": "code",
   "execution_count": 8,
   "metadata": {},
   "outputs": [
    {
     "data": {
      "text/plain": [
       "10841"
      ]
     },
     "execution_count": 8,
     "metadata": {},
     "output_type": "execute_result"
    }
   ],
   "source": [
    "len(google_data)"
   ]
  },
  {
   "cell_type": "markdown",
   "metadata": {},
   "source": [
    "Deletion of duplicated rows."
   ]
  },
  {
   "cell_type": "code",
   "execution_count": 10,
   "metadata": {},
   "outputs": [
    {
     "data": {
      "text/plain": [
       "9659"
      ]
     },
     "execution_count": 10,
     "metadata": {},
     "output_type": "execute_result"
    }
   ],
   "source": [
    "reviews_max = {}\n",
    "\n",
    "for row in google_data[1:]:\n",
    "    name = row[0]\n",
    "    n_reviews = row[3]\n",
    "    if name in reviews_max and reviews_max[name] < n_reviews:\n",
    "        reviews_max[name] = n_reviews\n",
    "    elif name not in reviews_max:\n",
    "        reviews_max[name] = n_reviews\n",
    "        \n",
    "        \n",
    "len(reviews_max)"
   ]
  },
  {
   "cell_type": "code",
   "execution_count": null,
   "metadata": {},
   "outputs": [],
   "source": []
  },
  {
   "cell_type": "code",
   "execution_count": 35,
   "metadata": {},
   "outputs": [
    {
     "name": "stdout",
     "output_type": "stream",
     "text": [
      "9659\n"
     ]
    }
   ],
   "source": [
    "android_clean = []\n",
    "already_added = []\n",
    "\n",
    "for app in google_data[1:]:\n",
    "    name = app[0]\n",
    "    n_reviews = str(app[3])\n",
    "    if (reviews_max[name] == n_reviews) and (name not in already_added):\n",
    "        android_clean.append(app)\n",
    "        already_added.append(name)\n",
    "        \n",
    "print(len(android_clean))"
   ]
  },
  {
   "cell_type": "code",
   "execution_count": 13,
   "metadata": {},
   "outputs": [],
   "source": [
    "def string_check(x):\n",
    "    count = 0\n",
    "    for i in x:\n",
    "        if ord(i) > 127:\n",
    "            count += 1\n",
    "            if count > 3:\n",
    "                return False\n",
    "    return True"
   ]
  },
  {
   "cell_type": "code",
   "execution_count": 14,
   "metadata": {},
   "outputs": [
    {
     "name": "stdout",
     "output_type": "stream",
     "text": [
      "True\n",
      "False\n",
      "True\n",
      "True\n"
     ]
    }
   ],
   "source": [
    "print(string_check('Instagram'))\n",
    "print(string_check('爱奇艺PPS -《欢乐颂2》电视剧热播'))\n",
    "print(string_check('Docs To Go™ Free Office Suite'))\n",
    "print(string_check('Instachat 😜'))"
   ]
  },
  {
   "cell_type": "code",
   "execution_count": 42,
   "metadata": {},
   "outputs": [
    {
     "name": "stdout",
     "output_type": "stream",
     "text": [
      "9614 6183\n"
     ]
    }
   ],
   "source": [
    "filter_google = []\n",
    "filter_apple = []\n",
    "\n",
    "for row in android_clean:\n",
    "    if string_check(row[0]):\n",
    "        filter_google.append(row)\n",
    "\n",
    "for row_2 in apple_data[1:]:\n",
    "    if string_check(row_2[1]):\n",
    "        filter_apple.append(row_2)\n",
    "\n",
    "print(len(filter_google), len(filter_apple))"
   ]
  },
  {
   "cell_type": "code",
   "execution_count": 44,
   "metadata": {},
   "outputs": [
    {
     "name": "stdout",
     "output_type": "stream",
     "text": [
      "8864 3222\n"
     ]
    }
   ],
   "source": [
    "free_google = []\n",
    "free_apple = []\n",
    "\n",
    "for line in filter_google:\n",
    "    if line[7] == '0':\n",
    "        free_google.append(line)\n",
    "    \n",
    "for line in filter_apple:\n",
    "    if line[4] == '0.0':\n",
    "        free_apple.append(line)\n",
    "    \n",
    "print(len(free_google), len(free_apple))"
   ]
  },
  {
   "cell_type": "markdown",
   "metadata": {},
   "source": [
    "Here I have to explain that we have to choose the same kind of apps to compare between. So english apps that are free are in our interest. "
   ]
  },
  {
   "cell_type": "code",
   "execution_count": 47,
   "metadata": {},
   "outputs": [],
   "source": [
    "def freq_table(dataset, index):\n",
    "    #find column\n",
    "    vector = []\n",
    "    for row in dataset:\n",
    "        vector.append(row[index])\n",
    "    \n",
    "    my_dict = {}\n",
    "    for v in vector:\n",
    "        if v in my_dict:\n",
    "            my_dict[v] += 1\n",
    "        else:\n",
    "            my_dict[v] = 1\n",
    "    \n",
    "    return my_dict"
   ]
  },
  {
   "cell_type": "code",
   "execution_count": 48,
   "metadata": {},
   "outputs": [],
   "source": [
    "def display_table(dataset, index):\n",
    "    table = freq_table(dataset, index)\n",
    "    table_display = []\n",
    "    for key in table:\n",
    "        key_val_as_tuple = (table[key], key)\n",
    "        table_display.append(key_val_as_tuple)\n",
    "\n",
    "    table_sorted = sorted(table_display, reverse = True)\n",
    "    for entry in table_sorted:\n",
    "        print(entry[1], ':', entry[0])"
   ]
  },
  {
   "cell_type": "code",
   "execution_count": 50,
   "metadata": {},
   "outputs": [
    {
     "name": "stdout",
     "output_type": "stream",
     "text": [
      "FAMILY : 1704\n",
      "GAME : 843\n",
      "TOOLS : 750\n",
      "BUSINESS : 406\n",
      "LIFESTYLE : 346\n",
      "PRODUCTIVITY : 345\n",
      "FINANCE : 328\n",
      "MEDICAL : 314\n",
      "SPORTS : 303\n",
      "PERSONALIZATION : 294\n",
      "COMMUNICATION : 288\n",
      "HEALTH_AND_FITNESS : 272\n",
      "PHOTOGRAPHY : 261\n",
      "NEWS_AND_MAGAZINES : 248\n",
      "SOCIAL : 236\n",
      "TRAVEL_AND_LOCAL : 207\n",
      "SHOPPING : 199\n",
      "BOOKS_AND_REFERENCE : 190\n",
      "DATING : 165\n",
      "VIDEO_PLAYERS : 158\n",
      "MAPS_AND_NAVIGATION : 124\n",
      "FOOD_AND_DRINK : 110\n",
      "EDUCATION : 100\n",
      "LIBRARIES_AND_DEMO : 83\n",
      "AUTO_AND_VEHICLES : 82\n",
      "ENTERTAINMENT : 78\n",
      "HOUSE_AND_HOME : 73\n",
      "WEATHER : 71\n",
      "EVENTS : 63\n",
      "PARENTING : 58\n",
      "ART_AND_DESIGN : 57\n",
      "COMICS : 55\n",
      "BEAUTY : 53\n"
     ]
    }
   ],
   "source": [
    "display_table(free_google, 1)"
   ]
  },
  {
   "cell_type": "code",
   "execution_count": 51,
   "metadata": {},
   "outputs": [
    {
     "name": "stdout",
     "output_type": "stream",
     "text": [
      "Tools : 749\n",
      "Entertainment : 538\n",
      "Education : 474\n",
      "Business : 406\n",
      "Productivity : 345\n",
      "Lifestyle : 345\n",
      "Finance : 328\n",
      "Medical : 314\n",
      "Sports : 307\n",
      "Personalization : 294\n",
      "Communication : 288\n",
      "Action : 275\n",
      "Health & Fitness : 272\n",
      "Photography : 261\n",
      "News & Magazines : 248\n",
      "Social : 236\n",
      "Travel & Local : 206\n",
      "Shopping : 199\n",
      "Books & Reference : 190\n",
      "Simulation : 181\n",
      "Dating : 165\n",
      "Arcade : 165\n",
      "Video Players & Editors : 158\n",
      "Casual : 155\n",
      "Maps & Navigation : 124\n",
      "Food & Drink : 110\n",
      "Puzzle : 100\n",
      "Racing : 88\n",
      "Role Playing : 83\n",
      "Libraries & Demo : 83\n",
      "Auto & Vehicles : 82\n",
      "Strategy : 81\n",
      "House & Home : 73\n",
      "Weather : 71\n",
      "Events : 63\n",
      "Adventure : 60\n",
      "Comics : 54\n",
      "Beauty : 53\n",
      "Art & Design : 53\n",
      "Parenting : 44\n",
      "Card : 39\n",
      "Casino : 38\n",
      "Trivia : 37\n",
      "Educational;Education : 35\n",
      "Board : 34\n",
      "Educational : 33\n",
      "Education;Education : 30\n",
      "Word : 23\n",
      "Casual;Pretend Play : 21\n",
      "Music : 18\n",
      "Racing;Action & Adventure : 15\n",
      "Puzzle;Brain Games : 15\n",
      "Entertainment;Music & Video : 15\n",
      "Casual;Brain Games : 12\n",
      "Casual;Action & Adventure : 12\n",
      "Arcade;Action & Adventure : 11\n",
      "Action;Action & Adventure : 9\n",
      "Educational;Pretend Play : 8\n",
      "Simulation;Action & Adventure : 7\n",
      "Parenting;Education : 7\n",
      "Entertainment;Brain Games : 7\n",
      "Board;Brain Games : 7\n",
      "Parenting;Music & Video : 6\n",
      "Educational;Brain Games : 6\n",
      "Casual;Creativity : 6\n",
      "Art & Design;Creativity : 6\n",
      "Education;Pretend Play : 5\n",
      "Role Playing;Pretend Play : 4\n",
      "Education;Creativity : 4\n",
      "Role Playing;Action & Adventure : 3\n",
      "Puzzle;Action & Adventure : 3\n",
      "Entertainment;Creativity : 3\n",
      "Entertainment;Action & Adventure : 3\n",
      "Educational;Creativity : 3\n",
      "Educational;Action & Adventure : 3\n",
      "Education;Music & Video : 3\n",
      "Education;Brain Games : 3\n",
      "Education;Action & Adventure : 3\n",
      "Adventure;Action & Adventure : 3\n",
      "Video Players & Editors;Music & Video : 2\n",
      "Sports;Action & Adventure : 2\n",
      "Simulation;Pretend Play : 2\n",
      "Puzzle;Creativity : 2\n",
      "Music;Music & Video : 2\n",
      "Entertainment;Pretend Play : 2\n",
      "Casual;Education : 2\n",
      "Board;Action & Adventure : 2\n",
      "Trivia;Education : 1\n",
      "Travel & Local;Action & Adventure : 1\n",
      "Tools;Education : 1\n",
      "Strategy;Education : 1\n",
      "Strategy;Creativity : 1\n",
      "Strategy;Action & Adventure : 1\n",
      "Simulation;Education : 1\n",
      "Role Playing;Brain Games : 1\n",
      "Racing;Pretend Play : 1\n",
      "Puzzle;Education : 1\n",
      "Parenting;Brain Games : 1\n",
      "Music & Audio;Music & Video : 1\n",
      "Lifestyle;Pretend Play : 1\n",
      "Lifestyle;Education : 1\n",
      "Health & Fitness;Education : 1\n",
      "Health & Fitness;Action & Adventure : 1\n",
      "Entertainment;Education : 1\n",
      "Communication;Creativity : 1\n",
      "Comics;Creativity : 1\n",
      "Casual;Music & Video : 1\n",
      "Card;Brain Games : 1\n",
      "Card;Action & Adventure : 1\n",
      "Books & Reference;Education : 1\n",
      "Art & Design;Pretend Play : 1\n",
      "Art & Design;Action & Adventure : 1\n",
      "Arcade;Pretend Play : 1\n",
      "Adventure;Education : 1\n"
     ]
    }
   ],
   "source": [
    "display_table(free_google, 9)"
   ]
  },
  {
   "cell_type": "code",
   "execution_count": 49,
   "metadata": {},
   "outputs": [
    {
     "name": "stdout",
     "output_type": "stream",
     "text": [
      "Games : 1874\n",
      "Entertainment : 254\n",
      "Photo & Video : 160\n",
      "Education : 118\n",
      "Social Networking : 106\n",
      "Shopping : 84\n",
      "Utilities : 81\n",
      "Sports : 69\n",
      "Music : 66\n",
      "Health & Fitness : 65\n",
      "Productivity : 56\n",
      "Lifestyle : 51\n",
      "News : 43\n",
      "Travel : 40\n",
      "Finance : 36\n",
      "Weather : 28\n",
      "Food & Drink : 26\n",
      "Reference : 18\n",
      "Business : 17\n",
      "Book : 14\n",
      "Navigation : 6\n",
      "Medical : 6\n",
      "Catalogs : 4\n"
     ]
    }
   ],
   "source": [
    "display_table(free_apple, 11)"
   ]
  },
  {
   "cell_type": "markdown",
   "metadata": {},
   "source": [
    "For free, english, apple apps, the most common genre is Games and Enetrainment.\n",
    "For free, english, google apps, the most common category is Family, Game and Tools, and for the most common genres there is tools and entertainemnt. "
   ]
  },
  {
   "cell_type": "code",
   "execution_count": 58,
   "metadata": {},
   "outputs": [
    {
     "name": "stdout",
     "output_type": "stream",
     "text": [
      "Average rating of Social Networking: 3.5943396226415096\n",
      "Average rating of Photo & Video: 3.903125\n",
      "Average rating of Games: 4.037086446104589\n",
      "Average rating of Music: 3.946969696969697\n",
      "Average rating of Reference: 3.6666666666666665\n",
      "Average rating of Health & Fitness: 3.769230769230769\n",
      "Average rating of Weather: 3.482142857142857\n",
      "Average rating of Utilities: 3.5308641975308643\n",
      "Average rating of Travel: 3.4875\n",
      "Average rating of Shopping: 3.9702380952380953\n",
      "Average rating of News: 3.244186046511628\n",
      "Average rating of Navigation: 3.8333333333333335\n",
      "Average rating of Lifestyle: 3.411764705882353\n",
      "Average rating of Entertainment: 3.5393700787401574\n",
      "Average rating of Food & Drink: 3.6346153846153846\n",
      "Average rating of Sports: 3.0652173913043477\n",
      "Average rating of Book: 3.0714285714285716\n",
      "Average rating of Finance: 3.375\n",
      "Average rating of Education: 3.635593220338983\n",
      "Average rating of Productivity: 4.0\n",
      "Average rating of Business: 3.9705882352941178\n",
      "Average rating of Catalogs: 4.125\n",
      "Average rating of Medical: 3.0\n"
     ]
    }
   ],
   "source": [
    "unique = freq_table(free_apple, 11)\n",
    "\n",
    "for genre in unique:\n",
    "    total = 0\n",
    "    len_genre = 0\n",
    "    for app in free_apple:\n",
    "        if app[11] == genre:\n",
    "            rate = float(app[7])\n",
    "            total += rate\n",
    "            len_genre += 1\n",
    "    avg = total / len_genre\n",
    "    print(\"Average rating of \" + genre + \": \"+ str(avg))"
   ]
  },
  {
   "cell_type": "code",
   "execution_count": 64,
   "metadata": {},
   "outputs": [
    {
     "name": "stdout",
     "output_type": "stream",
     "text": [
      "FAMILY : 1704\n",
      "GAME : 843\n",
      "TOOLS : 750\n",
      "BUSINESS : 406\n",
      "LIFESTYLE : 346\n",
      "PRODUCTIVITY : 345\n",
      "FINANCE : 328\n",
      "MEDICAL : 314\n",
      "SPORTS : 303\n",
      "PERSONALIZATION : 294\n",
      "COMMUNICATION : 288\n",
      "HEALTH_AND_FITNESS : 272\n",
      "PHOTOGRAPHY : 261\n",
      "NEWS_AND_MAGAZINES : 248\n",
      "SOCIAL : 236\n",
      "TRAVEL_AND_LOCAL : 207\n",
      "SHOPPING : 199\n",
      "BOOKS_AND_REFERENCE : 190\n",
      "DATING : 165\n",
      "VIDEO_PLAYERS : 158\n",
      "MAPS_AND_NAVIGATION : 124\n",
      "FOOD_AND_DRINK : 110\n",
      "EDUCATION : 100\n",
      "LIBRARIES_AND_DEMO : 83\n",
      "AUTO_AND_VEHICLES : 82\n",
      "ENTERTAINMENT : 78\n",
      "HOUSE_AND_HOME : 73\n",
      "WEATHER : 71\n",
      "EVENTS : 63\n",
      "PARENTING : 58\n",
      "ART_AND_DESIGN : 57\n",
      "COMICS : 55\n",
      "BEAUTY : 53\n",
      "None\n"
     ]
    }
   ],
   "source": [
    "unique_cat = display_table(free_google, 1)\n",
    "print(unique_cat)\n",
    "\n",
    "# for category in unique_cat:\n",
    "#     total = 0\n",
    "#     len_category = 0\n",
    "#     for app in free_google:\n",
    "#         if app[1] == category:\n",
    "#             installs = app[5]\n",
    "#             installs = installs.replace('+', '')\n",
    "#             installs = installs.replace(',', '')\n",
    "#             total += float(installs)\n",
    "#             len_category += 1\n",
    "#     avg = total / len_category\n",
    "#     print(\"Average installs of \" + category + \": \"+ str(avg))"
   ]
  },
  {
   "cell_type": "code",
   "execution_count": null,
   "metadata": {},
   "outputs": [],
   "source": []
  }
 ],
 "metadata": {
  "kernelspec": {
   "display_name": "Python 3",
   "language": "python",
   "name": "python3"
  },
  "language_info": {
   "codemirror_mode": {
    "name": "ipython",
    "version": 3
   },
   "file_extension": ".py",
   "mimetype": "text/x-python",
   "name": "python",
   "nbconvert_exporter": "python",
   "pygments_lexer": "ipython3",
   "version": "3.8.2"
  }
 },
 "nbformat": 4,
 "nbformat_minor": 2
}
