{
 "cells": [
  {
   "cell_type": "markdown",
   "metadata": {},
   "source": [
    "# Analysis of Fandango Rating System\n",
    "\n",
    "The goal of this project is to verify whether the rating system at Fandango has changed after the article by Hickey. \n",
    "\n",
    "\n",
    "We are going to compare raitngs of filmsat Fandango before and after Hickey's analysis. Then we may decide if the rating system at Fandango is more mathematically and statistically correct than before. \n",
    "\n",
    "Data description may be find:\n",
    "- before: https://github.com/fivethirtyeight/data/tree/master/fandango\n",
    "- after: https://github.com/mircealex/Movie_ratings_2016_17"
   ]
  },
  {
   "cell_type": "markdown",
   "metadata": {},
   "source": [
    "### Import & data collection"
   ]
  },
  {
   "cell_type": "code",
   "execution_count": 28,
   "metadata": {
    "collapsed": true
   },
   "outputs": [],
   "source": [
    "import pandas as pd\n",
    "import seaborn as sns\n",
    "\n",
    "import matplotlib.pyplot as plt"
   ]
  },
  {
   "cell_type": "code",
   "execution_count": 2,
   "metadata": {
    "collapsed": true
   },
   "outputs": [],
   "source": [
    "df_before = pd.read_csv('fandango_score_comparison.csv')\n",
    "df_after = pd.read_csv('movie_ratings_16_17.csv')"
   ]
  },
  {
   "cell_type": "code",
   "execution_count": 3,
   "metadata": {
    "collapsed": false
   },
   "outputs": [
    {
     "data": {
      "text/html": [
       "<div>\n",
       "<style scoped>\n",
       "    .dataframe tbody tr th:only-of-type {\n",
       "        vertical-align: middle;\n",
       "    }\n",
       "\n",
       "    .dataframe tbody tr th {\n",
       "        vertical-align: top;\n",
       "    }\n",
       "\n",
       "    .dataframe thead th {\n",
       "        text-align: right;\n",
       "    }\n",
       "</style>\n",
       "<table border=\"1\" class=\"dataframe\">\n",
       "  <thead>\n",
       "    <tr style=\"text-align: right;\">\n",
       "      <th></th>\n",
       "      <th>FILM</th>\n",
       "      <th>RottenTomatoes</th>\n",
       "      <th>RottenTomatoes_User</th>\n",
       "      <th>Metacritic</th>\n",
       "      <th>Metacritic_User</th>\n",
       "      <th>IMDB</th>\n",
       "      <th>Fandango_Stars</th>\n",
       "      <th>Fandango_Ratingvalue</th>\n",
       "      <th>RT_norm</th>\n",
       "      <th>RT_user_norm</th>\n",
       "      <th>...</th>\n",
       "      <th>IMDB_norm</th>\n",
       "      <th>RT_norm_round</th>\n",
       "      <th>RT_user_norm_round</th>\n",
       "      <th>Metacritic_norm_round</th>\n",
       "      <th>Metacritic_user_norm_round</th>\n",
       "      <th>IMDB_norm_round</th>\n",
       "      <th>Metacritic_user_vote_count</th>\n",
       "      <th>IMDB_user_vote_count</th>\n",
       "      <th>Fandango_votes</th>\n",
       "      <th>Fandango_Difference</th>\n",
       "    </tr>\n",
       "  </thead>\n",
       "  <tbody>\n",
       "    <tr>\n",
       "      <th>0</th>\n",
       "      <td>Avengers: Age of Ultron (2015)</td>\n",
       "      <td>74</td>\n",
       "      <td>86</td>\n",
       "      <td>66</td>\n",
       "      <td>7.1</td>\n",
       "      <td>7.8</td>\n",
       "      <td>5.0</td>\n",
       "      <td>4.5</td>\n",
       "      <td>3.70</td>\n",
       "      <td>4.3</td>\n",
       "      <td>...</td>\n",
       "      <td>3.90</td>\n",
       "      <td>3.5</td>\n",
       "      <td>4.5</td>\n",
       "      <td>3.5</td>\n",
       "      <td>3.5</td>\n",
       "      <td>4.0</td>\n",
       "      <td>1330</td>\n",
       "      <td>271107</td>\n",
       "      <td>14846</td>\n",
       "      <td>0.5</td>\n",
       "    </tr>\n",
       "    <tr>\n",
       "      <th>1</th>\n",
       "      <td>Cinderella (2015)</td>\n",
       "      <td>85</td>\n",
       "      <td>80</td>\n",
       "      <td>67</td>\n",
       "      <td>7.5</td>\n",
       "      <td>7.1</td>\n",
       "      <td>5.0</td>\n",
       "      <td>4.5</td>\n",
       "      <td>4.25</td>\n",
       "      <td>4.0</td>\n",
       "      <td>...</td>\n",
       "      <td>3.55</td>\n",
       "      <td>4.5</td>\n",
       "      <td>4.0</td>\n",
       "      <td>3.5</td>\n",
       "      <td>4.0</td>\n",
       "      <td>3.5</td>\n",
       "      <td>249</td>\n",
       "      <td>65709</td>\n",
       "      <td>12640</td>\n",
       "      <td>0.5</td>\n",
       "    </tr>\n",
       "    <tr>\n",
       "      <th>2</th>\n",
       "      <td>Ant-Man (2015)</td>\n",
       "      <td>80</td>\n",
       "      <td>90</td>\n",
       "      <td>64</td>\n",
       "      <td>8.1</td>\n",
       "      <td>7.8</td>\n",
       "      <td>5.0</td>\n",
       "      <td>4.5</td>\n",
       "      <td>4.00</td>\n",
       "      <td>4.5</td>\n",
       "      <td>...</td>\n",
       "      <td>3.90</td>\n",
       "      <td>4.0</td>\n",
       "      <td>4.5</td>\n",
       "      <td>3.0</td>\n",
       "      <td>4.0</td>\n",
       "      <td>4.0</td>\n",
       "      <td>627</td>\n",
       "      <td>103660</td>\n",
       "      <td>12055</td>\n",
       "      <td>0.5</td>\n",
       "    </tr>\n",
       "  </tbody>\n",
       "</table>\n",
       "<p>3 rows × 22 columns</p>\n",
       "</div>"
      ],
      "text/plain": [
       "                             FILM  RottenTomatoes  RottenTomatoes_User  \\\n",
       "0  Avengers: Age of Ultron (2015)              74                   86   \n",
       "1               Cinderella (2015)              85                   80   \n",
       "2                  Ant-Man (2015)              80                   90   \n",
       "\n",
       "   Metacritic  Metacritic_User  IMDB  Fandango_Stars  Fandango_Ratingvalue  \\\n",
       "0          66              7.1   7.8             5.0                   4.5   \n",
       "1          67              7.5   7.1             5.0                   4.5   \n",
       "2          64              8.1   7.8             5.0                   4.5   \n",
       "\n",
       "   RT_norm  RT_user_norm         ...           IMDB_norm  RT_norm_round  \\\n",
       "0     3.70           4.3         ...                3.90            3.5   \n",
       "1     4.25           4.0         ...                3.55            4.5   \n",
       "2     4.00           4.5         ...                3.90            4.0   \n",
       "\n",
       "   RT_user_norm_round  Metacritic_norm_round  Metacritic_user_norm_round  \\\n",
       "0                 4.5                    3.5                         3.5   \n",
       "1                 4.0                    3.5                         4.0   \n",
       "2                 4.5                    3.0                         4.0   \n",
       "\n",
       "   IMDB_norm_round  Metacritic_user_vote_count  IMDB_user_vote_count  \\\n",
       "0              4.0                        1330                271107   \n",
       "1              3.5                         249                 65709   \n",
       "2              4.0                         627                103660   \n",
       "\n",
       "   Fandango_votes  Fandango_Difference  \n",
       "0           14846                  0.5  \n",
       "1           12640                  0.5  \n",
       "2           12055                  0.5  \n",
       "\n",
       "[3 rows x 22 columns]"
      ]
     },
     "execution_count": 3,
     "metadata": {},
     "output_type": "execute_result"
    }
   ],
   "source": [
    "df_before.head(3)"
   ]
  },
  {
   "cell_type": "code",
   "execution_count": 4,
   "metadata": {
    "collapsed": false
   },
   "outputs": [
    {
     "data": {
      "text/html": [
       "<div>\n",
       "<style scoped>\n",
       "    .dataframe tbody tr th:only-of-type {\n",
       "        vertical-align: middle;\n",
       "    }\n",
       "\n",
       "    .dataframe tbody tr th {\n",
       "        vertical-align: top;\n",
       "    }\n",
       "\n",
       "    .dataframe thead th {\n",
       "        text-align: right;\n",
       "    }\n",
       "</style>\n",
       "<table border=\"1\" class=\"dataframe\">\n",
       "  <thead>\n",
       "    <tr style=\"text-align: right;\">\n",
       "      <th></th>\n",
       "      <th>movie</th>\n",
       "      <th>year</th>\n",
       "      <th>metascore</th>\n",
       "      <th>imdb</th>\n",
       "      <th>tmeter</th>\n",
       "      <th>audience</th>\n",
       "      <th>fandango</th>\n",
       "      <th>n_metascore</th>\n",
       "      <th>n_imdb</th>\n",
       "      <th>n_tmeter</th>\n",
       "      <th>n_audience</th>\n",
       "      <th>nr_metascore</th>\n",
       "      <th>nr_imdb</th>\n",
       "      <th>nr_tmeter</th>\n",
       "      <th>nr_audience</th>\n",
       "    </tr>\n",
       "  </thead>\n",
       "  <tbody>\n",
       "    <tr>\n",
       "      <th>0</th>\n",
       "      <td>10 Cloverfield Lane</td>\n",
       "      <td>2016</td>\n",
       "      <td>76</td>\n",
       "      <td>7.2</td>\n",
       "      <td>90</td>\n",
       "      <td>79</td>\n",
       "      <td>3.5</td>\n",
       "      <td>3.80</td>\n",
       "      <td>3.60</td>\n",
       "      <td>4.5</td>\n",
       "      <td>3.95</td>\n",
       "      <td>4.0</td>\n",
       "      <td>3.5</td>\n",
       "      <td>4.5</td>\n",
       "      <td>4.0</td>\n",
       "    </tr>\n",
       "    <tr>\n",
       "      <th>1</th>\n",
       "      <td>13 Hours</td>\n",
       "      <td>2016</td>\n",
       "      <td>48</td>\n",
       "      <td>7.3</td>\n",
       "      <td>50</td>\n",
       "      <td>83</td>\n",
       "      <td>4.5</td>\n",
       "      <td>2.40</td>\n",
       "      <td>3.65</td>\n",
       "      <td>2.5</td>\n",
       "      <td>4.15</td>\n",
       "      <td>2.5</td>\n",
       "      <td>3.5</td>\n",
       "      <td>2.5</td>\n",
       "      <td>4.0</td>\n",
       "    </tr>\n",
       "    <tr>\n",
       "      <th>2</th>\n",
       "      <td>A Cure for Wellness</td>\n",
       "      <td>2016</td>\n",
       "      <td>47</td>\n",
       "      <td>6.6</td>\n",
       "      <td>40</td>\n",
       "      <td>47</td>\n",
       "      <td>3.0</td>\n",
       "      <td>2.35</td>\n",
       "      <td>3.30</td>\n",
       "      <td>2.0</td>\n",
       "      <td>2.35</td>\n",
       "      <td>2.5</td>\n",
       "      <td>3.5</td>\n",
       "      <td>2.0</td>\n",
       "      <td>2.5</td>\n",
       "    </tr>\n",
       "  </tbody>\n",
       "</table>\n",
       "</div>"
      ],
      "text/plain": [
       "                 movie  year  metascore  imdb  tmeter  audience  fandango  \\\n",
       "0  10 Cloverfield Lane  2016         76   7.2      90        79       3.5   \n",
       "1             13 Hours  2016         48   7.3      50        83       4.5   \n",
       "2  A Cure for Wellness  2016         47   6.6      40        47       3.0   \n",
       "\n",
       "   n_metascore  n_imdb  n_tmeter  n_audience  nr_metascore  nr_imdb  \\\n",
       "0         3.80    3.60       4.5        3.95           4.0      3.5   \n",
       "1         2.40    3.65       2.5        4.15           2.5      3.5   \n",
       "2         2.35    3.30       2.0        2.35           2.5      3.5   \n",
       "\n",
       "   nr_tmeter  nr_audience  \n",
       "0        4.5          4.0  \n",
       "1        2.5          4.0  \n",
       "2        2.0          2.5  "
      ]
     },
     "execution_count": 4,
     "metadata": {},
     "output_type": "execute_result"
    }
   ],
   "source": [
    "df_after.head(3)"
   ]
  },
  {
   "cell_type": "code",
   "execution_count": 18,
   "metadata": {
    "collapsed": true
   },
   "outputs": [],
   "source": [
    "df_before_filter = df_before[['FILM', 'Fandango_Stars', 'Fandango_Ratingvalue', 'Fandango_votes', 'Fandango_Difference']]\n",
    "df_after_filter = df_after[['movie', 'year', 'fandango']]"
   ]
  },
  {
   "cell_type": "markdown",
   "metadata": {},
   "source": [
    "Sampling was not random due to different criteria used to collect the two data sets. What is more, data like these are impacted by trends, thus there is no arbitrary unbiasad corect value.\n",
    "\n",
    "Due to this fact, we will not compare the two data sets as it is but rather compare the differrences between different platform before and after."
   ]
  },
  {
   "cell_type": "markdown",
   "metadata": {},
   "source": [
    "# Data filtering\n",
    "\n",
    "We will take only the popular films chosed by Hickey's benchmark, so only those that have over 30 fan ratings. "
   ]
  },
  {
   "cell_type": "code",
   "execution_count": 6,
   "metadata": {
    "collapsed": false
   },
   "outputs": [
    {
     "data": {
      "text/html": [
       "<div>\n",
       "<style scoped>\n",
       "    .dataframe tbody tr th:only-of-type {\n",
       "        vertical-align: middle;\n",
       "    }\n",
       "\n",
       "    .dataframe tbody tr th {\n",
       "        vertical-align: top;\n",
       "    }\n",
       "\n",
       "    .dataframe thead th {\n",
       "        text-align: right;\n",
       "    }\n",
       "</style>\n",
       "<table border=\"1\" class=\"dataframe\">\n",
       "  <thead>\n",
       "    <tr style=\"text-align: right;\">\n",
       "      <th></th>\n",
       "      <th>movie</th>\n",
       "      <th>year</th>\n",
       "      <th>fandango</th>\n",
       "    </tr>\n",
       "  </thead>\n",
       "  <tbody>\n",
       "    <tr>\n",
       "      <th>0</th>\n",
       "      <td>10 Cloverfield Lane</td>\n",
       "      <td>2016</td>\n",
       "      <td>3.5</td>\n",
       "    </tr>\n",
       "    <tr>\n",
       "      <th>1</th>\n",
       "      <td>13 Hours</td>\n",
       "      <td>2016</td>\n",
       "      <td>4.5</td>\n",
       "    </tr>\n",
       "    <tr>\n",
       "      <th>2</th>\n",
       "      <td>A Cure for Wellness</td>\n",
       "      <td>2016</td>\n",
       "      <td>3.0</td>\n",
       "    </tr>\n",
       "    <tr>\n",
       "      <th>3</th>\n",
       "      <td>A Dog's Purpose</td>\n",
       "      <td>2017</td>\n",
       "      <td>4.5</td>\n",
       "    </tr>\n",
       "    <tr>\n",
       "      <th>4</th>\n",
       "      <td>A Hologram for the King</td>\n",
       "      <td>2016</td>\n",
       "      <td>3.0</td>\n",
       "    </tr>\n",
       "  </tbody>\n",
       "</table>\n",
       "</div>"
      ],
      "text/plain": [
       "                     movie  year  fandango\n",
       "0      10 Cloverfield Lane  2016       3.5\n",
       "1                 13 Hours  2016       4.5\n",
       "2      A Cure for Wellness  2016       3.0\n",
       "3          A Dog's Purpose  2017       4.5\n",
       "4  A Hologram for the King  2016       3.0"
      ]
     },
     "execution_count": 6,
     "metadata": {},
     "output_type": "execute_result"
    }
   ],
   "source": [
    "df_after_filter.head()"
   ]
  },
  {
   "cell_type": "code",
   "execution_count": 8,
   "metadata": {
    "collapsed": false
   },
   "outputs": [
    {
     "data": {
      "text/plain": [
       "146"
      ]
     },
     "execution_count": 8,
     "metadata": {},
     "output_type": "execute_result"
    }
   ],
   "source": [
    "len(df_before_filter[df_before_filter['Fandango_votes'] > 30])"
   ]
  },
  {
   "cell_type": "code",
   "execution_count": 9,
   "metadata": {
    "collapsed": false
   },
   "outputs": [
    {
     "data": {
      "text/html": [
       "<div>\n",
       "<style scoped>\n",
       "    .dataframe tbody tr th:only-of-type {\n",
       "        vertical-align: middle;\n",
       "    }\n",
       "\n",
       "    .dataframe tbody tr th {\n",
       "        vertical-align: top;\n",
       "    }\n",
       "\n",
       "    .dataframe thead th {\n",
       "        text-align: right;\n",
       "    }\n",
       "</style>\n",
       "<table border=\"1\" class=\"dataframe\">\n",
       "  <thead>\n",
       "    <tr style=\"text-align: right;\">\n",
       "      <th></th>\n",
       "      <th>movie</th>\n",
       "      <th>year</th>\n",
       "      <th>fandango</th>\n",
       "    </tr>\n",
       "  </thead>\n",
       "  <tbody>\n",
       "    <tr>\n",
       "      <th>108</th>\n",
       "      <td>Mechanic: Resurrection</td>\n",
       "      <td>2016</td>\n",
       "      <td>4.0</td>\n",
       "    </tr>\n",
       "    <tr>\n",
       "      <th>206</th>\n",
       "      <td>Warcraft</td>\n",
       "      <td>2016</td>\n",
       "      <td>4.0</td>\n",
       "    </tr>\n",
       "    <tr>\n",
       "      <th>106</th>\n",
       "      <td>Max Steel</td>\n",
       "      <td>2016</td>\n",
       "      <td>3.5</td>\n",
       "    </tr>\n",
       "    <tr>\n",
       "      <th>107</th>\n",
       "      <td>Me Before You</td>\n",
       "      <td>2016</td>\n",
       "      <td>4.5</td>\n",
       "    </tr>\n",
       "    <tr>\n",
       "      <th>51</th>\n",
       "      <td>Fantastic Beasts and Where to Find Them</td>\n",
       "      <td>2016</td>\n",
       "      <td>4.5</td>\n",
       "    </tr>\n",
       "    <tr>\n",
       "      <th>33</th>\n",
       "      <td>Cell</td>\n",
       "      <td>2016</td>\n",
       "      <td>3.0</td>\n",
       "    </tr>\n",
       "    <tr>\n",
       "      <th>59</th>\n",
       "      <td>Genius</td>\n",
       "      <td>2016</td>\n",
       "      <td>3.5</td>\n",
       "    </tr>\n",
       "    <tr>\n",
       "      <th>152</th>\n",
       "      <td>Sully</td>\n",
       "      <td>2016</td>\n",
       "      <td>4.5</td>\n",
       "    </tr>\n",
       "    <tr>\n",
       "      <th>4</th>\n",
       "      <td>A Hologram for the King</td>\n",
       "      <td>2016</td>\n",
       "      <td>3.0</td>\n",
       "    </tr>\n",
       "    <tr>\n",
       "      <th>31</th>\n",
       "      <td>Captain America: Civil War</td>\n",
       "      <td>2016</td>\n",
       "      <td>4.5</td>\n",
       "    </tr>\n",
       "  </tbody>\n",
       "</table>\n",
       "</div>"
      ],
      "text/plain": [
       "                                       movie  year  fandango\n",
       "108                   Mechanic: Resurrection  2016       4.0\n",
       "206                                 Warcraft  2016       4.0\n",
       "106                                Max Steel  2016       3.5\n",
       "107                            Me Before You  2016       4.5\n",
       "51   Fantastic Beasts and Where to Find Them  2016       4.5\n",
       "33                                      Cell  2016       3.0\n",
       "59                                    Genius  2016       3.5\n",
       "152                                    Sully  2016       4.5\n",
       "4                    A Hologram for the King  2016       3.0\n",
       "31                Captain America: Civil War  2016       4.5"
      ]
     },
     "execution_count": 9,
     "metadata": {},
     "output_type": "execute_result"
    }
   ],
   "source": [
    "df_after_filter.sample(10, random_state = 1)"
   ]
  },
  {
   "cell_type": "markdown",
   "metadata": {},
   "source": [
    "Unfortunetelly, Fnadango's website is not available outside United States, thus I cannot verify the ratings. For the sake of exercise I assume that there were more than 30 votes per film in general. "
   ]
  },
  {
   "cell_type": "code",
   "execution_count": 17,
   "metadata": {
    "collapsed": false
   },
   "outputs": [
    {
     "data": {
      "text/html": [
       "<div>\n",
       "<style scoped>\n",
       "    .dataframe tbody tr th:only-of-type {\n",
       "        vertical-align: middle;\n",
       "    }\n",
       "\n",
       "    .dataframe tbody tr th {\n",
       "        vertical-align: top;\n",
       "    }\n",
       "\n",
       "    .dataframe thead th {\n",
       "        text-align: right;\n",
       "    }\n",
       "</style>\n",
       "<table border=\"1\" class=\"dataframe\">\n",
       "  <thead>\n",
       "    <tr style=\"text-align: right;\">\n",
       "      <th></th>\n",
       "      <th>movie</th>\n",
       "      <th>year</th>\n",
       "      <th>fandango</th>\n",
       "    </tr>\n",
       "  </thead>\n",
       "  <tbody>\n",
       "    <tr>\n",
       "      <th>0</th>\n",
       "      <td>10 Cloverfield Lane</td>\n",
       "      <td>2016</td>\n",
       "      <td>3.5</td>\n",
       "    </tr>\n",
       "    <tr>\n",
       "      <th>1</th>\n",
       "      <td>13 Hours</td>\n",
       "      <td>2016</td>\n",
       "      <td>4.5</td>\n",
       "    </tr>\n",
       "    <tr>\n",
       "      <th>2</th>\n",
       "      <td>A Cure for Wellness</td>\n",
       "      <td>2016</td>\n",
       "      <td>3.0</td>\n",
       "    </tr>\n",
       "    <tr>\n",
       "      <th>4</th>\n",
       "      <td>A Hologram for the King</td>\n",
       "      <td>2016</td>\n",
       "      <td>3.0</td>\n",
       "    </tr>\n",
       "    <tr>\n",
       "      <th>5</th>\n",
       "      <td>A Monster Calls</td>\n",
       "      <td>2016</td>\n",
       "      <td>4.0</td>\n",
       "    </tr>\n",
       "  </tbody>\n",
       "</table>\n",
       "</div>"
      ],
      "text/plain": [
       "                     movie  year  fandango\n",
       "0      10 Cloverfield Lane  2016       3.5\n",
       "1                 13 Hours  2016       4.5\n",
       "2      A Cure for Wellness  2016       3.0\n",
       "4  A Hologram for the King  2016       3.0\n",
       "5          A Monster Calls  2016       4.0"
      ]
     },
     "execution_count": 17,
     "metadata": {},
     "output_type": "execute_result"
    }
   ],
   "source": [
    "df_2016 = df_after_filter[df_after_filter['year'] == 2016]\n",
    "df_2016.head()"
   ]
  },
  {
   "cell_type": "code",
   "execution_count": 21,
   "metadata": {
    "collapsed": false
   },
   "outputs": [
    {
     "name": "stderr",
     "output_type": "stream",
     "text": [
      "/dataquest/system/env/python3/lib/python3.4/site-packages/ipykernel/__main__.py:1: SettingWithCopyWarning:\n",
      "\n",
      "\n",
      "A value is trying to be set on a copy of a slice from a DataFrame.\n",
      "Try using .loc[row_indexer,col_indexer] = value instead\n",
      "\n",
      "See the caveats in the documentation: http://pandas.pydata.org/pandas-docs/stable/indexing.html#indexing-view-versus-copy\n",
      "\n"
     ]
    },
    {
     "data": {
      "text/html": [
       "<div>\n",
       "<style scoped>\n",
       "    .dataframe tbody tr th:only-of-type {\n",
       "        vertical-align: middle;\n",
       "    }\n",
       "\n",
       "    .dataframe tbody tr th {\n",
       "        vertical-align: top;\n",
       "    }\n",
       "\n",
       "    .dataframe thead th {\n",
       "        text-align: right;\n",
       "    }\n",
       "</style>\n",
       "<table border=\"1\" class=\"dataframe\">\n",
       "  <thead>\n",
       "    <tr style=\"text-align: right;\">\n",
       "      <th></th>\n",
       "      <th>FILM</th>\n",
       "      <th>Fandango_Stars</th>\n",
       "      <th>Fandango_Ratingvalue</th>\n",
       "      <th>Fandango_votes</th>\n",
       "      <th>Fandango_Difference</th>\n",
       "      <th>year</th>\n",
       "    </tr>\n",
       "  </thead>\n",
       "  <tbody>\n",
       "    <tr>\n",
       "      <th>0</th>\n",
       "      <td>Avengers: Age of Ultron (2015)</td>\n",
       "      <td>5.0</td>\n",
       "      <td>4.5</td>\n",
       "      <td>14846</td>\n",
       "      <td>0.5</td>\n",
       "      <td>2015</td>\n",
       "    </tr>\n",
       "    <tr>\n",
       "      <th>1</th>\n",
       "      <td>Cinderella (2015)</td>\n",
       "      <td>5.0</td>\n",
       "      <td>4.5</td>\n",
       "      <td>12640</td>\n",
       "      <td>0.5</td>\n",
       "      <td>2015</td>\n",
       "    </tr>\n",
       "    <tr>\n",
       "      <th>2</th>\n",
       "      <td>Ant-Man (2015)</td>\n",
       "      <td>5.0</td>\n",
       "      <td>4.5</td>\n",
       "      <td>12055</td>\n",
       "      <td>0.5</td>\n",
       "      <td>2015</td>\n",
       "    </tr>\n",
       "    <tr>\n",
       "      <th>3</th>\n",
       "      <td>Do You Believe? (2015)</td>\n",
       "      <td>5.0</td>\n",
       "      <td>4.5</td>\n",
       "      <td>1793</td>\n",
       "      <td>0.5</td>\n",
       "      <td>2015</td>\n",
       "    </tr>\n",
       "    <tr>\n",
       "      <th>4</th>\n",
       "      <td>Hot Tub Time Machine 2 (2015)</td>\n",
       "      <td>3.5</td>\n",
       "      <td>3.0</td>\n",
       "      <td>1021</td>\n",
       "      <td>0.5</td>\n",
       "      <td>2015</td>\n",
       "    </tr>\n",
       "  </tbody>\n",
       "</table>\n",
       "</div>"
      ],
      "text/plain": [
       "                             FILM  Fandango_Stars  Fandango_Ratingvalue  \\\n",
       "0  Avengers: Age of Ultron (2015)             5.0                   4.5   \n",
       "1               Cinderella (2015)             5.0                   4.5   \n",
       "2                  Ant-Man (2015)             5.0                   4.5   \n",
       "3          Do You Believe? (2015)             5.0                   4.5   \n",
       "4   Hot Tub Time Machine 2 (2015)             3.5                   3.0   \n",
       "\n",
       "   Fandango_votes  Fandango_Difference  year  \n",
       "0           14846                  0.5  2015  \n",
       "1           12640                  0.5  2015  \n",
       "2           12055                  0.5  2015  \n",
       "3            1793                  0.5  2015  \n",
       "4            1021                  0.5  2015  "
      ]
     },
     "execution_count": 21,
     "metadata": {},
     "output_type": "execute_result"
    }
   ],
   "source": [
    "df_before_filter['year'] = df_before_filter['FILM'].str[-5:-1]\n",
    "df_2015 = df_before_filter[df_before_filter['year'] == '2015']\n",
    "df_before_filter.head(5)"
   ]
  },
  {
   "cell_type": "markdown",
   "metadata": {},
   "source": [
    "# Data analysis\n",
    "\n",
    "Steps to determine whether there's any difference between Fandango's ratings for populat movies in 2015 and Fandango's rating for popular movies in 2016."
   ]
  },
  {
   "cell_type": "code",
   "execution_count": 30,
   "metadata": {
    "collapsed": true
   },
   "outputs": [],
   "source": [
    "from numpy import arange\n",
    "%matplotlib inline"
   ]
  },
  {
   "cell_type": "code",
   "execution_count": 45,
   "metadata": {
    "collapsed": false
   },
   "outputs": [
    {
     "data": {
      "image/png": "[encoded data removed]",
      "text/plain": [
       "<matplotlib.figure.Figure at 0x7f9f31252390>"
      ]
     },
     "metadata": {},
     "output_type": "display_data"
    }
   ],
   "source": [
    "plt.style.use('fivethirtyeight')\n",
    "df_2016['fandango'].plot.kde(label = '2016', legend = True)\n",
    "df_2015['Fandango_Stars'].plot.kde(label = '2015', legend = True)\n",
    "#plt.axvline(497, label='Average')\n",
    "plt.title(\"Density of Fandango's rating\", y=1.1)\n",
    "plt.xlabel('Rating')\n",
    "plt.ylabel('Frequency of values')\n",
    "plt.xlim(0,5)\n",
    "plt.xticks([0, 0.5, 1.0, 1.5, 2.0, 2.5, 3.0, 3.5, 4.0, 4.5, 5.0])\n",
    "plt.legend()\n",
    "plt.show()"
   ]
  },
  {
   "cell_type": "markdown",
   "metadata": {},
   "source": [
    "Visualization above suggests that:\n",
    "- distribution of rating in 2015 is left skewed\n",
    "- distribution in 2016 is symmetrical in range (3; 5)\n",
    "\n",
    "The rating in 2016 was a little bit more subdued with minimal rating of 2.5 and the most frequent value was 4.5 in comparison with 2015 where the minimal rating was 3.0 and the most frequent rate was 4.5. \n",
    "\n"
   ]
  },
  {
   "cell_type": "markdown",
   "metadata": {},
   "source": [
    "### Frequency distribution tables\n",
    "\n",
    "With normalized valus using percentage."
   ]
  },
  {
   "cell_type": "code",
   "execution_count": 48,
   "metadata": {
    "collapsed": false
   },
   "outputs": [
    {
     "data": {
      "text/plain": [
       "2.5     3.141361\n",
       "3.0     7.329843\n",
       "3.5    24.083770\n",
       "4.0    40.314136\n",
       "4.5    24.607330\n",
       "5.0     0.523560\n",
       "Name: fandango, dtype: float64"
      ]
     },
     "execution_count": 48,
     "metadata": {},
     "output_type": "execute_result"
    }
   ],
   "source": [
    "df_2016['fandango'].value_counts(normalize = True).sort_index() * 100"
   ]
  },
  {
   "cell_type": "code",
   "execution_count": 49,
   "metadata": {
    "collapsed": false
   },
   "outputs": [
    {
     "data": {
      "text/plain": [
       "3.0     8.527132\n",
       "3.5    17.829457\n",
       "4.0    28.682171\n",
       "4.5    37.984496\n",
       "5.0     6.976744\n",
       "Name: Fandango_Stars, dtype: float64"
      ]
     },
     "execution_count": 49,
     "metadata": {},
     "output_type": "execute_result"
    }
   ],
   "source": [
    "df_2015['Fandango_Stars'].value_counts(normalize = True).sort_index() * 100"
   ]
  },
  {
   "cell_type": "markdown",
   "metadata": {},
   "source": [
    "With distribution tables we can see the defference less clearly as on plot above. However we still observe the significant difference in frequency of ratings, especially when it comes to the highest value which in 2016 was 0.5% and in 2015 it was almost 7%. Also the minimal rating is interesting, because in 2015 there was no film rated under 3.0 and in 2016 the rate of 2.5 reached over 3%."
   ]
  },
  {
   "cell_type": "markdown",
   "metadata": {},
   "source": [
    "### Summary statistics"
   ]
  },
  {
   "cell_type": "code",
   "execution_count": 61,
   "metadata": {
    "collapsed": false
   },
   "outputs": [
    {
     "name": "stdout",
     "output_type": "stream",
     "text": [
      "Mean in 2016 3.887434554973822 \n",
      "Median in 2016 4.0 \n",
      "Mode in 2016 0    4.0\n",
      "dtype: float64\n",
      "\n",
      "Mean in 2015 4.0852713178294575 \n",
      "Median in 2015 4.0 \n",
      "Mode in 2015 0    4.5\n",
      "dtype: float64\n"
     ]
    }
   ],
   "source": [
    "mean_2016 = df_2016['fandango'].mean()\n",
    "median_2016 = df_2016['fandango'].median()\n",
    "mode_2016 = df_2016['fandango'].mode()\n",
    "\n",
    "mean_2015 = df_2015['Fandango_Stars'].mean()\n",
    "median_2015 = df_2015['Fandango_Stars'].median()\n",
    "mode_2015 = df_2015['Fandango_Stars'].mode()\n",
    "\n",
    "print('Mean in 2016',mean_2016, '\\nMedian in 2016', median_2016,'\\nMode in 2016', mode_2016)\n",
    "print('\\nMean in 2015',mean_2015, '\\nMedian in 2015', median_2015,'\\nMode in 2015',  mode_2015)"
   ]
  },
  {
   "cell_type": "code",
   "execution_count": 64,
   "metadata": {
    "collapsed": false
   },
   "outputs": [
    {
     "data": {
      "text/html": [
       "<div>\n",
       "<style scoped>\n",
       "    .dataframe tbody tr th:only-of-type {\n",
       "        vertical-align: middle;\n",
       "    }\n",
       "\n",
       "    .dataframe tbody tr th {\n",
       "        vertical-align: top;\n",
       "    }\n",
       "\n",
       "    .dataframe thead th {\n",
       "        text-align: right;\n",
       "    }\n",
       "</style>\n",
       "<table border=\"1\" class=\"dataframe\">\n",
       "  <thead>\n",
       "    <tr style=\"text-align: right;\">\n",
       "      <th></th>\n",
       "      <th>2015</th>\n",
       "      <th>2016</th>\n",
       "    </tr>\n",
       "  </thead>\n",
       "  <tbody>\n",
       "    <tr>\n",
       "      <th>mean</th>\n",
       "      <td>4.085271</td>\n",
       "      <td>3.887435</td>\n",
       "    </tr>\n",
       "    <tr>\n",
       "      <th>median</th>\n",
       "      <td>4.000000</td>\n",
       "      <td>4.000000</td>\n",
       "    </tr>\n",
       "    <tr>\n",
       "      <th>mode</th>\n",
       "      <td>4.500000</td>\n",
       "      <td>4.000000</td>\n",
       "    </tr>\n",
       "  </tbody>\n",
       "</table>\n",
       "</div>"
      ],
      "text/plain": [
       "            2015      2016\n",
       "mean    4.085271  3.887435\n",
       "median  4.000000  4.000000\n",
       "mode    4.500000  4.000000"
      ]
     },
     "execution_count": 64,
     "metadata": {},
     "output_type": "execute_result"
    }
   ],
   "source": [
    "summary = pd.DataFrame()\n",
    "summary['2015'] = [mean_2015, median_2015, mode_2015[0]]\n",
    "summary['2016'] = [mean_2016, median_2016, mode_2016[0]]\n",
    "summary.index = ['mean', 'median', 'mode']\n",
    "summary"
   ]
  },
  {
   "cell_type": "code",
   "execution_count": 65,
   "metadata": {
    "collapsed": false
   },
   "outputs": [
    {
     "data": {
      "image/png": "[encoded data removed]",
      "text/plain": [
       "<matplotlib.figure.Figure at 0x7f9f30fbd128>"
      ]
     },
     "metadata": {},
     "output_type": "display_data"
    }
   ],
   "source": [
    "plt.style.use('fivethirtyeight')\n",
    "summary['2015'].plot.bar(color = '#0066FF', align = 'center', label = '2015', width = .25)\n",
    "summary['2016'].plot.bar(color = '#CC0000', align = 'edge', label = '2016', width = .25,\n",
    "                         rot = 0, figsize = (8,5))\n",
    "\n",
    "plt.title('Comparing summary statistics: 2015 vs 2016', y = 1.07)\n",
    "plt.ylim(0,5.5)\n",
    "plt.yticks(arange(0,5.1,.5))\n",
    "plt.ylabel('Stars')\n",
    "plt.legend(framealpha = 0, loc = 'upper center')\n",
    "plt.show()"
   ]
  },
  {
   "cell_type": "markdown",
   "metadata": {},
   "source": [
    "The two difference that we can observe from this fraph are:\n",
    "- lower mean value by 0.5 point\n",
    "- lower most common value by 1 point"
   ]
  },
  {
   "cell_type": "markdown",
   "metadata": {},
   "source": [
    "### Conclusion\n",
    "\n",
    "The analysis above determined that there are in fact some differences in rating of popular films on Fandangos website before and after the article of Hickey. On average the films in 2016 where rated lower than in 2015. Whether it was due to change in rating system or trends in movie making industry is yet to be analysied."
   ]
  }
 ],
 "metadata": {
  "kernelspec": {
   "display_name": "Python 3",
   "language": "python",
   "name": "python3"
  },
  "language_info": {
   "codemirror_mode": {
    "name": "ipython",
    "version": 3
   },
   "file_extension": ".py",
   "mimetype": "text/x-python",
   "name": "python",
   "nbconvert_exporter": "python",
   "pygments_lexer": "ipython3",
   "version": "3.4.3"
  }
 },
 "nbformat": 4,
 "nbformat_minor": 2
}
